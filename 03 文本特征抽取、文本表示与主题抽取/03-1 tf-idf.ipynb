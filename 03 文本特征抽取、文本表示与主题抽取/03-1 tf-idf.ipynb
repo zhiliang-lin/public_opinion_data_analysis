{
 "cells": [
  {
   "cell_type": "markdown",
   "metadata": {},
   "source": [
    "**TF-IDF 模型**\n",
    "\n",
    "TF-IDF（Term Frequency-Inverse Document Frequency）是一种用于信息检索和文本挖掘的常用文本特征表示方法。它衡量了一个词在一篇文档中的重要性，是基于词频和逆文档频率的计算得到的。\n",
    "\n",
    "TF（词频）表示一个词在文档中出现的频率，而 IDF（逆文档频率）则衡量一个词的稀有程度，即在语料库中出现的文档数的倒数。\n",
    "\n",
    "TF-IDF 的计算公式如下：\n",
    "$$\n",
    "\\text{TF-IDF}(t, d, D) = \\text{TF}(t, d) \\times \\text{IDF}(t, D)\n",
    "$$\n",
    "其中：\n",
    "- $\\text{TF}(t, d)$ 表示词 $t$ 在文档 $d$中的词频，可以使用简单的词频或归一化的词频。\n",
    "- $\\text{IDF}(t, D)$ 表示词 $t$ 的逆文档频率，计算方式为 $\\log\\frac{N}{\\text{DF}(t, D) + 1}$，其中 $N$是语料库中的文档总数，$\\text{DF}(t, D)$ 是包含词$t$的文档数。\n",
    "\n",
    "TF-IDF 主要用于将文档表示为向量，其中每个维度对应于一个词的 TF-IDF 值。通过这种表示，可以比较不同文档之间的相似性，同时降低常见词汇的权重。\n",
    "\n",
    "在 Python 中，可以使用 `TfidfVectorizer` 类来实现 TF-IDF 模型的构建。以下是一个简单的示例代码："
   ]
  },
  {
   "cell_type": "code",
   "execution_count": 1,
   "metadata": {},
   "outputs": [
    {
     "name": "stdout",
     "output_type": "stream",
     "text": [
      "        and  document     first        is       one    second       the  \\\n",
      "0  0.000000  0.469791  0.580286  0.384085  0.000000  0.000000  0.384085   \n",
      "1  0.000000  0.687624  0.000000  0.281089  0.000000  0.538648  0.281089   \n",
      "2  0.511849  0.000000  0.000000  0.267104  0.511849  0.000000  0.267104   \n",
      "3  0.000000  0.469791  0.580286  0.384085  0.000000  0.000000  0.384085   \n",
      "\n",
      "      third      this  \n",
      "0  0.000000  0.384085  \n",
      "1  0.000000  0.281089  \n",
      "2  0.511849  0.267104  \n",
      "3  0.000000  0.384085  \n"
     ]
    }
   ],
   "source": [
    "from sklearn.feature_extraction.text import TfidfVectorizer\n",
    "\n",
    "# 示例文档集合\n",
    "documents = [\n",
    "    \"This is the first document.\",\n",
    "    \"This document is the second document.\",\n",
    "    \"And this is the third one.\",\n",
    "    \"Is this the first document?\"\n",
    "]\n",
    "\n",
    "# 创建 TF-IDF 模型\n",
    "vectorizer = TfidfVectorizer()\n",
    "tfidf_matrix = vectorizer.fit_transform(documents)\n",
    "\n",
    "# 获取词汇表\n",
    "vocabulary = vectorizer.get_feature_names_out()\n",
    "\n",
    "# 创建 DataFrame 显示结果\n",
    "import pandas as pd\n",
    "df_tfidf = pd.DataFrame(tfidf_matrix.toarray(), columns=vocabulary)\n",
    "print(df_tfidf)"
   ]
  },
  {
   "cell_type": "markdown",
   "metadata": {},
   "source": [
    "\n",
    "上述代码中，`TfidfVectorizer` 将文档集合转换为 TF-IDF 矩阵，其中每一行代表一个文档，每一列代表一个词汇。最终的结果是一个 DataFrame，其中包含了文档的 TF-IDF 表示。"
   ]
  }
 ],
 "metadata": {
  "kernelspec": {
   "display_name": "base",
   "language": "python",
   "name": "python3"
  },
  "language_info": {
   "codemirror_mode": {
    "name": "ipython",
    "version": 3
   },
   "file_extension": ".py",
   "mimetype": "text/x-python",
   "name": "python",
   "nbconvert_exporter": "python",
   "pygments_lexer": "ipython3",
   "version": "3.10.9"
  }
 },
 "nbformat": 4,
 "nbformat_minor": 2
}
