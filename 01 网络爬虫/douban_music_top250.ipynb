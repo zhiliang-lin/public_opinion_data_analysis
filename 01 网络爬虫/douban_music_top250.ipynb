{
 "cells": [
  {
   "cell_type": "markdown",
   "metadata": {},
   "source": [
    "# 导入相关的包"
   ]
  },
  {
   "cell_type": "code",
   "execution_count": 8,
   "metadata": {},
   "outputs": [],
   "source": [
    "import requests\n",
    "from pyquery import PyQuery  \n",
    "import re\n",
    "import csv"
   ]
  },
  {
   "cell_type": "markdown",
   "metadata": {},
   "source": [
    "# 生成url"
   ]
  },
  {
   "cell_type": "code",
   "execution_count": 15,
   "metadata": {},
   "outputs": [],
   "source": [
    "# 函数：生成网址  \n",
    "# 返回值：url_list为网址列表\n",
    "def generate_url():   # 添加：定义函数名\n",
    "    url_list = []\n",
    "    template = 'https://music.douban.com/top250?start={num}'\n",
    "    for p in range(1,11):\n",
    "        url = template.format(num=(p-1)*25)\n",
    "        url_list.append(url)\n",
    "    return url_list        # 添加：返回网址列表"
   ]
  },
  {
   "cell_type": "markdown",
   "metadata": {},
   "source": [
    "# 请求网页数据"
   ]
  },
  {
   "cell_type": "code",
   "execution_count": 14,
   "metadata": {},
   "outputs": [],
   "source": [
    "# 函数：获得html  get_html(url)\n",
    "# 参数说明：url为单个网址\n",
    "# 返回值：html为网址的html数据，即网页源代码的字符串\n",
    "def get_html(url):         # 添加：定义函数名\n",
    "    headers = {'User-Agent': 'Mozilla/5.0 (Windows NT 10.0; Win64; x64) \\\n",
    "            AppleWebKit/537.36 (KHTML, like Gecko) \\\n",
    "           Chrome/119.0.0.0 Safari/537.36 Edg/119.0.0.0'}\n",
    "    resp = requests.get(url,headers=headers)\n",
    "    html = resp.text\n",
    "    return html            # 添加：返回网址的html数据"
   ]
  },
  {
   "cell_type": "markdown",
   "metadata": {},
   "source": [
    "# 解析网页"
   ]
  },
  {
   "cell_type": "code",
   "execution_count": 11,
   "metadata": {},
   "outputs": [],
   "source": [
    "def extract_musicinfo_list(html):\n",
    "    musicinfo_list = []   # 生成空列表，用于存储音乐信息\n",
    "    doc = PyQuery(html)\n",
    "    for music in doc.items('tr.item'):\n",
    "        music_name = music('.pl2 a').text()    # 情况1：直接解析\n",
    "        score = music('.rating_nums').text()\n",
    "            \n",
    "        info_list = music('p.pl').text().split('/')    # 情况2：提取列表元素\n",
    "        musician = info_list[0]\n",
    "        pub_time = info_list[1]\n",
    "        type = info_list[-1]   \n",
    "\n",
    "        people_num_raw = music('span.pl').text()       # 情况3：正则表达式提取\n",
    "        people_num = re.findall('[0-9]+', people_num_raw)[0]\n",
    "            \n",
    "        musicinfo = {'music_name':music_name,   # 为每张音乐专辑创建一个字典，不同字段建构不同键值对\n",
    "                        'musician':musician,\n",
    "                        'pub_time':pub_time,\n",
    "                        'type':type,\n",
    "                        'score':score,\n",
    "                        'people_num':people_num,\n",
    "                        }\n",
    "            \n",
    "        musicinfo_list.append(musicinfo)      # 将字典添加进musicinfo_list列表中\n",
    "\n",
    "\n",
    "    return musicinfo_list"
   ]
  },
  {
   "cell_type": "code",
   "execution_count": null,
   "metadata": {},
   "outputs": [],
   "source": [
    "# 函数：爬虫主函数  main(filename)\n",
    "# 参数说明：filename为文件名称\n",
    "# 仅执行命令，不返回任何值\n",
    "def main(filename):         # 添加：定义函数名\n",
    "    print('开始采集豆瓣读书top 250书籍！')              # 添加：说明“开始采集豆瓣读书top 250书籍！”\n",
    "    \n",
    "    # 生成所有网址url_list\n",
    "    url_list = generate_url()\n",
    "    \n",
    "    # 打开文件\n",
    "    file = open(filename, 'a+', encoding='utf-8', newline='')     # 修改：将文件名称，设定为函数的参数\n",
    "    fieldnames = ['book_name', 'authors', 'publisher', 'pub_time', 'desc', 'score', 'people_num', 'price'] \n",
    "    writer = csv.DictWriter(file, fieldnames=fieldnames)    \n",
    "    writer.writeheader() \n",
    "\n",
    "    # 对所有网址url_list循环步骤2-4\n",
    "    for url in url_list:\n",
    "        print('正在采集：{url}'.format(url=url))    # 添加：说明“正在采集<url>”\n",
    "        html = get_html(url)\n",
    "        bookinfo_list = extract_bookinfo_list(html)\n",
    "        for bookinfo in bookinfo_list:\n",
    "            writer.writerow(bookinfo)\n",
    "\n",
    "    file.close()\n",
    "\n",
    "    print('采集完毕！')            # 添加：说明“采集完毕！”"
   ]
  },
  {
   "cell_type": "code",
   "execution_count": null,
   "metadata": {},
   "outputs": [],
   "source": []
  },
  {
   "cell_type": "markdown",
   "metadata": {},
   "source": [
    "# main 函数"
   ]
  },
  {
   "cell_type": "code",
   "execution_count": 12,
   "metadata": {},
   "outputs": [],
   "source": [
    "def main(filename):\n",
    "    print(\"开始采集豆瓣音乐top 250\")\n",
    "    url_list = generate_url()\n",
    "\n",
    "    file = open(filename,\"a+\",encoding=\"utf-8\",newline=\"\")\n",
    "    fieldnames = ['music_name','musician','pub_time','type','score','people_num']\n",
    "    writer =csv.DictWriter(file,fieldnames=fieldnames)\n",
    "    writer.writeheader()\n",
    "\n",
    "    for url in url_list:\n",
    "        try:\n",
    "            print(\"正在采集:{url}\".format(url=url))\n",
    "            html = get_html(url)\n",
    "            musicinfo_list = extract_musicinfo_list(html)\n",
    "            for musicinfo in musicinfo_list:\n",
    "                writer.writerow(musicinfo)\n",
    "        except:\n",
    "            pass\n",
    "\n",
    "    file.close()\n",
    "\n",
    "    print(\"采集完毕！\")"
   ]
  },
  {
   "cell_type": "markdown",
   "metadata": {},
   "source": [
    "# 使用main函数开始抓取"
   ]
  },
  {
   "cell_type": "code",
   "execution_count": 13,
   "metadata": {},
   "outputs": [
    {
     "name": "stdout",
     "output_type": "stream",
     "text": [
      "开始采集豆瓣音乐top 250\n",
      "正在采集:https://music.douban.com/top250?start=0\n",
      "正在采集:https://music.douban.com/top250?start=25\n",
      "正在采集:https://music.douban.com/top250?start=50\n",
      "正在采集:https://music.douban.com/top250?start=75\n",
      "正在采集:https://music.douban.com/top250?start=100\n",
      "正在采集:https://music.douban.com/top250?start=125\n",
      "正在采集:https://music.douban.com/top250?start=150\n",
      "正在采集:https://music.douban.com/top250?start=175\n",
      "正在采集:https://music.douban.com/top250?start=200\n",
      "正在采集:https://music.douban.com/top250?start=225\n",
      "采集完毕！\n"
     ]
    }
   ],
   "source": [
    "main(filename=\"./data/music_250.csv\")"
   ]
  },
  {
   "cell_type": "markdown",
   "metadata": {},
   "source": [
    "**注意：** 第4,5,6页页面只有24张专辑，所以爬取的内容一共只有247条"
   ]
  }
 ],
 "metadata": {
  "kernelspec": {
   "display_name": "base",
   "language": "python",
   "name": "python3"
  },
  "language_info": {
   "codemirror_mode": {
    "name": "ipython",
    "version": 3
   },
   "file_extension": ".py",
   "mimetype": "text/x-python",
   "name": "python",
   "nbconvert_exporter": "python",
   "pygments_lexer": "ipython3",
   "version": "3.10.9"
  }
 },
 "nbformat": 4,
 "nbformat_minor": 2
}
